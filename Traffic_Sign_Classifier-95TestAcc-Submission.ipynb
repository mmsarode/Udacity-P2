{
 "cells": [
  {
   "cell_type": "markdown",
   "metadata": {},
   "source": [
    "# Self-Driving Car Engineer Nanodegree\n",
    "\n",
    "## Deep Learning\n",
    "\n",
    "## Project: Build a Traffic Sign Recognition Classifier\n",
    "\n",
    "In this notebook, a template is provided for you to implement your functionality in stages, which is required to successfully complete this project. If additional code is required that cannot be included in the notebook, be sure that the Python code is successfully imported and included in your submission if necessary. \n",
    "\n",
    "> **Note**: Once you have completed all of the code implementations, you need to finalize your work by exporting the iPython Notebook as an HTML document. Before exporting the notebook to html, all of the code cells need to have been run so that reviewers can see the final implementation and output. You can then export the notebook by using the menu above and navigating to  \\n\",\n",
    "    \"**File -> Download as -> HTML (.html)**. Include the finished document along with this notebook as your submission. \n",
    "\n",
    "In addition to implementing code, there is a writeup to complete. The writeup should be completed in a separate file, which can be either a markdown file or a pdf document. There is a [write up template](https://github.com/udacity/CarND-Traffic-Sign-Classifier-Project/blob/master/writeup_template.md) that can be used to guide the writing process. Completing the code template and writeup template will cover all of the [rubric points](https://review.udacity.com/#!/rubrics/481/view) for this project.\n",
    "\n",
    "The [rubric](https://review.udacity.com/#!/rubrics/481/view) contains \"Stand Out Suggestions\" for enhancing the project beyond the minimum requirements. The stand out suggestions are optional. If you decide to pursue the \"stand out suggestions\", you can include the code in this Ipython notebook and also discuss the results in the writeup file.\n",
    "\n",
    "\n",
    ">**Note:** Code and Markdown cells can be executed using the **Shift + Enter** keyboard shortcut. In addition, Markdown cells can be edited by typically double-clicking the cell to enter edit mode."
   ]
  },
  {
   "cell_type": "markdown",
   "metadata": {},
   "source": [
    "---\n",
    "## Step 0: Load The Data"
   ]
  },
  {
   "cell_type": "code",
   "execution_count": 1,
   "metadata": {
    "collapsed": false
   },
   "outputs": [
    {
     "name": "stdout",
     "output_type": "stream",
     "text": [
      "(39209, 32, 32, 3)\n"
     ]
    }
   ],
   "source": [
    "# Load pickled data\n",
    "import pickle\n",
    "\n",
    "# TODO: Fill this in based on where you saved the training and testing data\n",
    "\n",
    "training_file = \"train.p\"\n",
    "testing_file = \"test.p\"\n",
    "\n",
    "with open(training_file, mode='rb') as f:\n",
    "    train = pickle.load(f)\n",
    "with open(testing_file, mode='rb') as f:\n",
    "    test = pickle.load(f)\n",
    "    \n",
    "X_train, y_train = train['features'], train['labels']\n",
    "X_test, y_test = test['features'], test['labels']\n",
    "print(X_train.shape)"
   ]
  },
  {
   "cell_type": "markdown",
   "metadata": {},
   "source": [
    "---\n",
    "\n",
    "## Step 1: Dataset Summary & Exploration\n",
    "\n",
    "The pickled data is a dictionary with 4 key/value pairs:\n",
    "\n",
    "- `'features'` is a 4D array containing raw pixel data of the traffic sign images, (num examples, width, height, channels).\n",
    "- `'labels'` is a 1D array containing the label/class id of the traffic sign. The file `signnames.csv` contains id -> name mappings for each id.\n",
    "- `'sizes'` is a list containing tuples, (width, height) representing the the original width and height the image.\n",
    "- `'coords'` is a list containing tuples, (x1, y1, x2, y2) representing coordinates of a bounding box around the sign in the image. **THESE COORDINATES ASSUME THE ORIGINAL IMAGE. THE PICKLED DATA CONTAINS RESIZED VERSIONS (32 by 32) OF THESE IMAGES**\n",
    "\n",
    "Complete the basic data summary below. Use python, numpy and/or pandas methods to calculate the data summary rather than hard coding the results. For example, the [pandas shape method](http://pandas.pydata.org/pandas-docs/stable/generated/pandas.DataFrame.shape.html) might be useful for calculating some of the summary results. "
   ]
  },
  {
   "cell_type": "markdown",
   "metadata": {},
   "source": [
    "### Provide a Basic Summary of the Data Set Using Python, Numpy and/or Pandas"
   ]
  },
  {
   "cell_type": "code",
   "execution_count": 2,
   "metadata": {
    "collapsed": false
   },
   "outputs": [
    {
     "name": "stdout",
     "output_type": "stream",
     "text": [
      "Number of training examples = 39209\n",
      "Number of testing examples = 12630\n",
      "Image data shape = (32, 32, 3)\n",
      "Number of classes = 43\n"
     ]
    }
   ],
   "source": [
    "### Replace each question mark with the appropriate value.\n",
    "\n",
    "# TODO: Number of training examples\n",
    "n_train = len(y_train)\n",
    "\n",
    "# TODO: Number of testing examples.\n",
    "n_test = len(y_test)\n",
    "\n",
    "# TODO: What's the shape of an traffic sign image?\n",
    "image_shape = X_train.shape[1:]\n",
    "\n",
    "# TODO: How many unique classes/labels there are in the dataset.\n",
    "n_classes = 43\n",
    "\n",
    "print(\"Number of training examples =\", n_train)\n",
    "print(\"Number of testing examples =\", n_test)\n",
    "print(\"Image data shape =\", image_shape)\n",
    "print(\"Number of classes =\", n_classes)"
   ]
  },
  {
   "cell_type": "markdown",
   "metadata": {},
   "source": [
    "### Include an exploratory visualization of the dataset"
   ]
  },
  {
   "cell_type": "markdown",
   "metadata": {},
   "source": [
    "Visualize the German Traffic Signs Dataset using the pickled file(s). This is open ended, suggestions include: plotting traffic sign images, plotting the count of each sign, etc.\n",
    "\n",
    "The [Matplotlib](http://matplotlib.org/) [examples](http://matplotlib.org/examples/index.html) and [gallery](http://matplotlib.org/gallery.html) pages are a great resource for doing visualizations in Python.\n",
    "\n",
    "**NOTE:** It's recommended you start with something simple first. If you wish to do more, come back to it after you've completed the rest of the sections."
   ]
  },
  {
   "cell_type": "code",
   "execution_count": 3,
   "metadata": {
    "collapsed": false
   },
   "outputs": [
    {
     "name": "stdout",
     "output_type": "stream",
     "text": [
      "<class 'numpy.ndarray'>\n",
      "(183, 275, 3)\n"
     ]
    },
    {
     "data": {
      "text/plain": [
       "<matplotlib.image.AxesImage at 0x7f30d4656518>"
      ]
     },
     "execution_count": 3,
     "metadata": {},
     "output_type": "execute_result"
    },
    {
     "data": {
      "image/png": "[encoded data removed]",
      "text/plain": [
       "<matplotlib.figure.Figure at 0x7f30f1489eb8>"
      ]
     },
     "metadata": {},
     "output_type": "display_data"
    }
   ],
   "source": [
    "import matplotlib.pyplot as plt\n",
    "import cv2\n",
    "# import tensorflow as tf\n",
    "import numpy as np\n",
    "\n",
    "%matplotlib inline\n",
    "filename1 = \"P2-Images/Traffic-signs-from-web/120_02.jpg\"\n",
    "filename2 = \"P2-Images/Traffic-signs-from-web/stop.jpg\"\n",
    "filename3 = \"P2-Images/Traffic-signs-from-web/60.jpg\"\n",
    "filename4 = \"P2-Images/Traffic-signs-from-web/keep_right.jpg\"\n",
    "filename5 = \"P2-Images/Traffic-signs-from-web/ahead_only.jpg\"\n",
    "filename6 = \"P2-Images/Traffic-signs-from-web/turn_left.jpg\"\n",
    "filename7 = \"P2-Images/Traffic-signs-from-web/school.jpg\"\n",
    "\n",
    "# im1 = cv2.imread(filename1)[::1]\n",
    "im1 = cv2.imread(filename1)[...,::-1]\n",
    "im2 = cv2.imread(filename2)[...,::-1]\n",
    "im3 = cv2.imread(filename3)[...,::-1]\n",
    "im4 = cv2.imread(filename4)[...,::-1]\n",
    "im5 = cv2.imread(filename5)[...,::-1]\n",
    "im6 = cv2.imread(filename6)[...,::-1]\n",
    "im7 = cv2.imread(filename7)[...,::-1]\n",
    "\n",
    "\n",
    "\n",
    "\n",
    "\n",
    "# x = LoadImageM(filename1)\n",
    "# im2 = np.asarray(im)\n",
    "print(type(im1))\n",
    "print(im1.shape)\n",
    "plt.figure(figsize=(1,1))\n",
    "plt.imshow(im1)\n",
    "# print(max(im2))\n"
   ]
  },
  {
   "cell_type": "code",
   "execution_count": 4,
   "metadata": {
    "collapsed": false
   },
   "outputs": [
    {
     "data": {
      "text/plain": [
       "<matplotlib.image.AxesImage at 0x7f30d45d4630>"
      ]
     },
     "execution_count": 4,
     "metadata": {},
     "output_type": "execute_result"
    },
    {
     "data": {
      "image/png": "[encoded data removed]",
      "text/plain": [
       "<matplotlib.figure.Figure at 0x7f30d46ac3c8>"
      ]
     },
     "metadata": {},
     "output_type": "display_data"
    }
   ],
   "source": [
    "new_size = (32,32)\n",
    "\n",
    "resized_image1 = cv2.resize(im1, new_size) \n",
    "resized_image2 = cv2.resize(im2, new_size) \n",
    "resized_image3 = cv2.resize(im3, new_size) \n",
    "resized_image4 = cv2.resize(im4, new_size) \n",
    "resized_image5 = cv2.resize(im5, new_size) \n",
    "resized_image6 = cv2.resize(im6, new_size) \n",
    "resized_image7 = cv2.resize(im7, new_size) \n",
    "\n",
    "plt.figure(figsize=(1,1))\n",
    "plt.imshow(resized_image7)\n"
   ]
  },
  {
   "cell_type": "code",
   "execution_count": 5,
   "metadata": {
    "collapsed": false
   },
   "outputs": [
    {
     "name": "stdout",
     "output_type": "stream",
     "text": [
      "6\n",
      "(32, 32, 3)\n"
     ]
    },
    {
     "data": {
      "image/png": "[encoded data removed]",
      "text/plain": [
       "<matplotlib.figure.Figure at 0x7f30d466e4e0>"
      ]
     },
     "metadata": {},
     "output_type": "display_data"
    }
   ],
   "source": [
    "### Data exploration visualization goes here.\n",
    "### Feel free to use as many code cells as needed.\n",
    "import random\n",
    "import numpy as np\n",
    "import matplotlib.pyplot as plt\n",
    "\n",
    "# import tflearn\n",
    "\n",
    "# from tflearn.data_preprocessing import ImagePreprocessing\n",
    "# from tflearn.data_augmentation import ImageAugmentation\n",
    "\n",
    "# import tflearn.data_augmentation.ImageAugmentation\n",
    "# Visualizations will be shown in the notebook.\n",
    "%matplotlib inline\n",
    "\n",
    "# # image.convertTo(new_image, -1, alpha, beta);\n",
    "# image2 = image\n",
    "# cv2.convertScaleAbs(image, image2, alpha, beta)\n",
    "\n",
    "index = random.randint(0, len(X_train))\n",
    "image = X_train[index].squeeze()\n",
    "\n",
    "plt.figure(figsize=(1,1))\n",
    "plt.imshow(image)\n",
    "# plt.imshow(image2)\n",
    "print(y_train[index])\n",
    "print(image.shape)\n",
    "# print (image)"
   ]
  },
  {
   "cell_type": "markdown",
   "metadata": {},
   "source": [
    "----\n",
    "\n",
    "## Step 2: Design and Test a Model Architecture\n",
    "\n",
    "Design and implement a deep learning model that learns to recognize traffic signs. Train and test your model on the [German Traffic Sign Dataset](http://benchmark.ini.rub.de/?section=gtsrb&subsection=dataset).\n",
    "\n",
    "There are various aspects to consider when thinking about this problem:\n",
    "\n",
    "- Neural network architecture\n",
    "- Play around preprocessing techniques (normalization, rgb to grayscale, etc)\n",
    "- Number of examples per label (some have more than others).\n",
    "- Generate fake data.\n",
    "\n",
    "Here is an example of a [published baseline model on this problem](http://yann.lecun.com/exdb/publis/pdf/sermanet-ijcnn-11.pdf). It's not required to be familiar with the approach used in the paper but, it's good practice to try to read papers like these.\n",
    "\n",
    "**NOTE:** The LeNet-5 implementation shown in the [classroom](https://classroom.udacity.com/nanodegrees/nd013/parts/fbf77062-5703-404e-b60c-95b78b2f3f9e/modules/6df7ae49-c61c-4bb2-a23e-6527e69209ec/lessons/601ae704-1035-4287-8b11-e2c2716217ad/concepts/d4aca031-508f-4e0b-b493-e7b706120f81) at the end of the CNN lesson is a solid starting point. You'll have to change the number of classes and possibly the preprocessing, but aside from that it's plug and play!"
   ]
  },
  {
   "cell_type": "markdown",
   "metadata": {},
   "source": [
    "### Pre-process the Data Set (normalization, grayscale, etc.)"
   ]
  },
  {
   "cell_type": "markdown",
   "metadata": {},
   "source": [
    "Use the code cell (or multiple code cells, if necessary) to implement the first step of your project."
   ]
  },
  {
   "cell_type": "code",
   "execution_count": 6,
   "metadata": {
    "collapsed": false
   },
   "outputs": [],
   "source": [
    "import cv2\n",
    "def generate_augmented_data(image, maxrot, maxtrans, maxshear, contrast, brightness):\n",
    "    \n",
    "    nrow = 32\n",
    "    ncol = 32\n",
    "#     parameters\n",
    "#     rot = 30 #deg\n",
    "    rand_alpha = np.random.uniform(-contrast, contrast) + 1\n",
    "    rand_beta = np.random.uniform(-brightness, brightness) + 0\n",
    "    \n",
    "#     image_new = image*rand_alpha + rand_beta\n",
    "\n",
    "    rand_rot = np.random.uniform(maxrot) - maxrot/2\n",
    "    \n",
    "    tr_x = maxtrans * np.random.uniform() - maxtrans/2\n",
    "    tr_y = maxtrans * np.random.uniform() - maxtrans/2\n",
    "    \n",
    "    Rot_matrix = cv2.getRotationMatrix2D((ncol/2,nrow/2),rand_rot,1)\n",
    "    Trans_matrix = np.float32([[1,0,tr_x],[0,1,tr_y]])\n",
    "    \n",
    "    pts1 = np.float32([[5,5],[20,5],[5,20]])\n",
    "\n",
    "    pt1 = 5 + maxshear*np.random.uniform() - maxshear/2\n",
    "    pt2 = 20 + maxshear*np.random.uniform() - maxshear/2\n",
    "\n",
    "    pts2 = np.float32([[pt1,5],[pt2,pt1],[5,pt2]])\n",
    "\n",
    "    shear_matrix = cv2.getAffineTransform(pts1,pts2)\n",
    "    \n",
    "    image_new = cv2.warpAffine(image, Rot_matrix,(ncol, nrow))\n",
    "    image_new = cv2.warpAffine(image_new, Trans_matrix,(ncol, nrow))\n",
    "    image_new = cv2.warpAffine(image_new, shear_matrix,(ncol, nrow))\n",
    "#     print (rand_alpha, rand_beta)\n",
    "    image_new = image_new*rand_alpha + rand_beta\n",
    "    return image_new\n",
    "    \n",
    "\n",
    "\n",
    "\n"
   ]
  },
  {
   "cell_type": "code",
   "execution_count": 7,
   "metadata": {
    "collapsed": false
   },
   "outputs": [
    {
     "data": {
      "text/plain": [
       "<matplotlib.image.AxesImage at 0x7f30d45855f8>"
      ]
     },
     "execution_count": 7,
     "metadata": {},
     "output_type": "execute_result"
    },
    {
     "data": {
      "image/png": "[encoded data removed]",
      "text/plain": [
       "<matplotlib.figure.Figure at 0x7f30d45c44a8>"
      ]
     },
     "metadata": {},
     "output_type": "display_data"
    }
   ],
   "source": [
    "aa = generate_augmented_data(image, 15, 4, 5, 0.025, 2)\n",
    "\n",
    "plt.imshow(aa)"
   ]
  },
  {
   "cell_type": "code",
   "execution_count": null,
   "metadata": {
    "collapsed": true
   },
   "outputs": [],
   "source": []
  },
  {
   "cell_type": "code",
   "execution_count": 8,
   "metadata": {
    "collapsed": true
   },
   "outputs": [],
   "source": [
    "### Preprocess the data here. Preprocessing steps could include normalization, converting to grayscale, etc.\n",
    "### Feel free to use as many code cells as needed."
   ]
  },
  {
   "cell_type": "code",
   "execution_count": 9,
   "metadata": {
    "collapsed": false
   },
   "outputs": [
    {
     "name": "stdout",
     "output_type": "stream",
     "text": [
      "(39209, 32, 32, 3)\n",
      "(78418, 32, 32, 3)\n"
     ]
    }
   ],
   "source": [
    "from sklearn.utils import shuffle\n",
    "\n",
    "print(X_train.shape)\n",
    "# bb = np.array([generate_augmented_data(img, 40, 5, 5, 1.5, 30) for img in X_train ])\n",
    "X_train_aug = X_train\n",
    "y_train_aug = y_train\n",
    "\n",
    "# bb = np.array([generate_augmented_data(img, 40, 5, 5, 1.5, 30) for img in X_train ])\n",
    "# X_train_aug = np.concatenate((X_train_aug, bb), axis=0)\n",
    "# y_train_aug = np.concatenate((y_train_aug, y_train), axis=0) \n",
    "\n",
    "for i in range(1):\n",
    "    bb = np.array([generate_augmented_data(img, 20, 4, 5, 0.025, 2) for img in X_train ])\n",
    "    X_train_aug = np.concatenate((X_train_aug, bb), axis=0)\n",
    "    y_train_aug = np.concatenate((y_train_aug, y_train), axis=0) \n",
    "#     bb = np.concatenate((bb, X_train), axis=0)\n",
    "       \n",
    "    X_train_aug, y_train_aug = shuffle(X_train_aug, y_train_aug)\n",
    "    \n",
    "\n",
    "# print(size(bb))\n",
    "print(X_train_aug.shape)\n",
    "# print(aa.shape)\n",
    "# plt.imshow(aa)\n"
   ]
  },
  {
   "cell_type": "code",
   "execution_count": 10,
   "metadata": {
    "collapsed": true
   },
   "outputs": [],
   "source": [
    "# print(type(bb))\n",
    "# cc = np.concatenate((bb, X_train), axis=0)\n",
    "# # bb = np.array([bb, X_train])\n",
    "# # bb2 = bb + image\n",
    "# # np.append(bb, [image], 0)\n",
    "# print(bb.shape)\n",
    "# print(X_train.shape)\n",
    "# print(cc.shape)\n",
    "# plt.imshow(bb[-1])\n",
    "# plt.imshow(image)"
   ]
  },
  {
   "cell_type": "code",
   "execution_count": 11,
   "metadata": {
    "collapsed": true
   },
   "outputs": [],
   "source": [
    "# Preprocess"
   ]
  },
  {
   "cell_type": "code",
   "execution_count": 12,
   "metadata": {
    "collapsed": true
   },
   "outputs": [],
   "source": [
    "def normalize_01(image_data):\n",
    "    \"\"\"\n",
    "    Normalize the image data with Min-Max scaling to a range of [0.1, 0.9]\n",
    "    :param image_data: The image data to be normalized\n",
    "    :return: Normalized image data\n",
    "    \"\"\"\n",
    "    a = -0.5\n",
    "    b = 0.5\n",
    "    Xmin = 0\n",
    "    Xmax = 255\n",
    "    return a + (image_data - Xmin)*(b - a)*1./(1.*Xmax - Xmin)\n",
    "#     return [ a + (X - Xmin)*(b - a)*1./(1.*Xmax - Xmin) for X in image_data]"
   ]
  },
  {
   "cell_type": "code",
   "execution_count": 13,
   "metadata": {
    "collapsed": false
   },
   "outputs": [
    {
     "name": "stdout",
     "output_type": "stream",
     "text": [
      "[-0.31124764 -0.3073328  -0.31907731]\n",
      "[ 48.13185245  49.130136    46.13528535]\n"
     ]
    }
   ],
   "source": [
    "### Preprocess the data here.\n",
    "### Feel free to use as many code cells as needed.\n",
    "\n",
    "X_train_n = normalize_01(X_train_aug)\n",
    "y_train_n = y_train_aug\n",
    "X_test_n = normalize_01(X_test)\n",
    "# X_validation_n = normalize_01(X_validation )\n",
    "# y_validation_n = y_validation\n",
    "\n",
    "print(X_train_n[2][5][0])\n",
    "print(X_train_aug[2][5][0])\n",
    "\n",
    "# print(X_validation_n[3][5][0], y_validation_n[3])\n",
    "# print(X_validation[3][5][0], y_validation[3])\n",
    "\n",
    "# X_train_n, y_train_n = shuffle(X_train_n, y_train_n)"
   ]
  },
  {
   "cell_type": "markdown",
   "metadata": {},
   "source": [
    "### Split Data into Training, Validation and Testing Sets"
   ]
  },
  {
   "cell_type": "code",
   "execution_count": 14,
   "metadata": {
    "collapsed": true
   },
   "outputs": [],
   "source": [
    "### Split the data into training/validation/testing sets here.\n",
    "### Feel free to use as many code cells as needed."
   ]
  },
  {
   "cell_type": "code",
   "execution_count": 15,
   "metadata": {
    "collapsed": false
   },
   "outputs": [
    {
     "name": "stdout",
     "output_type": "stream",
     "text": [
      "Updated Image Shape: (32, 32, 3)\n",
      "Updated Number of training examples: 58813\n",
      "Updated Number of validation examples: 19605\n"
     ]
    }
   ],
   "source": [
    "from sklearn.model_selection import train_test_split\n",
    "X_train_n, X_validation_n, y_train_n, y_validation_n = train_test_split(X_train_n, y_train_n, test_size = 0.25, random_state=0)\n",
    "\n",
    "n_train = len(y_train_n)\n",
    "\n",
    "n_validation = len(y_validation_n)\n",
    "\n",
    "print(\"Updated Image Shape: {}\".format(X_train[0].shape))\n",
    "print(\"Updated Number of training examples: {}\".format(n_train))\n",
    "print(\"Updated Number of validation examples: {}\".format(n_validation))"
   ]
  },
  {
   "cell_type": "markdown",
   "metadata": {},
   "source": [
    "### Model Architecture"
   ]
  },
  {
   "cell_type": "code",
   "execution_count": 16,
   "metadata": {
    "collapsed": true
   },
   "outputs": [],
   "source": [
    "### Define your architecture here.\n",
    "### Feel free to use as many code cells as needed."
   ]
  },
  {
   "cell_type": "code",
   "execution_count": 17,
   "metadata": {
    "collapsed": false
   },
   "outputs": [
    {
     "name": "stdout",
     "output_type": "stream",
     "text": [
      "[76 76 78]\n",
      "[-0.50090295 -0.50090295 -0.50090295]\n"
     ]
    }
   ],
   "source": [
    "import tensorflow as tf\n",
    "\n",
    "EPOCHS = 10\n",
    "BATCH_SIZE = 128*8*2\n",
    "print(X_train[2][5][0])\n",
    "print(X_train_n[2][5][0])"
   ]
  },
  {
   "cell_type": "code",
   "execution_count": 18,
   "metadata": {
    "collapsed": true
   },
   "outputs": [],
   "source": [
    "### Define your architecture here.\n",
    "### Feel free to use as many code cells as needed.\n",
    "\n",
    "from tensorflow.contrib.layers import flatten\n",
    "\n",
    "def LeNet(x):    \n",
    "    # Arguments used for tf.truncated_normal, randomly defines variables for the weights and biases for each layer\n",
    "    mu = 0\n",
    "    sigma = 0.1\n",
    "    keep_prob = 0.5\n",
    "    \n",
    "    # SOLUTION: Layer 1: Convolutional. Input = 32x32x1. Output = 28x28x6.\n",
    "    # SOLUTION: Layer 1: Convolutional. Input = 32x32x1. Output = 30x30x10.\n",
    "    \n",
    "    conv1_W = tf.Variable(tf.truncated_normal(shape=(5, 5, 3, 23), mean = mu, stddev = sigma))\n",
    "    conv1_b = tf.Variable(tf.zeros(23))\n",
    "    conv1   = tf.nn.conv2d(x, conv1_W, strides=[1, 1, 1, 1], padding='VALID') + conv1_b\n",
    "\n",
    "    # SOLUTION: Activation.\n",
    "    conv1 = tf.nn.relu(conv1)\n",
    "    \n",
    "    \n",
    "    # SOLUTION: Pooling. Input = 28x28x6. Output = 14x14x6.\n",
    "    # SOLUTION: Pooling. Input = 28x28x6. Output = 15x15x10.\n",
    "    conv1 = tf.nn.max_pool(conv1, ksize=[1, 2, 2, 1], strides=[1, 2, 2, 1], padding='VALID')\n",
    "    conv1 = tf.nn.dropout(conv1, keep_prob)\n",
    "\n",
    "    # SOLUTION: Layer 2: Convolutional. Output = 10x10x16.\n",
    "    # SOLUTION: Layer 2: Convolutional. Output = 12x12x25.\n",
    "    conv2_W = tf.Variable(tf.truncated_normal(shape=(5, 5, 23, 40), mean = mu, stddev = sigma))\n",
    "    conv2_b = tf.Variable(tf.zeros(40))\n",
    "    conv2   = tf.nn.conv2d(conv1, conv2_W, strides=[1, 1, 1, 1], padding='VALID') + conv2_b\n",
    "    \n",
    "    # SOLUTION: Activation.\n",
    "    conv2 = tf.nn.relu(conv2)\n",
    "    \n",
    "    \n",
    "    \n",
    "#     hidden_layer = tf.nn.relu(hidden_layer)\n",
    "#     hidden_layer = tf.nn.dropout(hidden_layer, keep_prob)\n",
    "\n",
    "    # SOLUTION: Pooling. Input = 10x10x16. Output = 5x5x16.\n",
    "    # SOLUTION: Pooling. Input = 12x12x16. Output = 6x6x25.\n",
    "    conv2 = tf.nn.max_pool(conv2, ksize=[1, 2, 2, 1], strides=[1, 2, 2, 1], padding='VALID')\n",
    "    conv2 = tf.nn.dropout(conv2, keep_prob)\n",
    "\n",
    "    # SOLUTION: Flatten. Input = 5x5x16. Output = 400.\n",
    "    fc0   = flatten(conv2)\n",
    "    \n",
    "    # SOLUTION: Layer 3: Fully Connected. Input = 400. Output = 120.\n",
    "    fc1_W = tf.Variable(tf.truncated_normal(shape=(1000, 490), mean = mu, stddev = sigma))\n",
    "    fc1_b = tf.Variable(tf.zeros(490))\n",
    "    fc1   = tf.matmul(fc0, fc1_W) + fc1_b\n",
    "    \n",
    "    # SOLUTION: Activation.\n",
    "    fc1    = tf.nn.relu(fc1)\n",
    "#     fc1 = tf.nn.dropout(fc1, keep_prob)\n",
    "        # SOLUTION: Layer 3: Fully Connected. Input = 400. Output = 120.\n",
    "    fc1add_W = tf.Variable(tf.truncated_normal(shape=(490, 220), mean = mu, stddev = sigma))\n",
    "    fc1add_b = tf.Variable(tf.zeros(220))\n",
    "    fc1add   = tf.matmul(fc1, fc1add_W) + fc1add_b\n",
    "    \n",
    "    # SOLUTION: Activation.\n",
    "    fc1add    = tf.nn.relu(fc1add)\n",
    "\n",
    "    # SOLUTION: Layer 4: Fully Connected. Input = 120. Output = 84.\n",
    "    fc2_W  = tf.Variable(tf.truncated_normal(shape=(220, 90), mean = mu, stddev = sigma))\n",
    "    fc2_b  = tf.Variable(tf.zeros(90))\n",
    "    fc2    = tf.matmul(fc1add, fc2_W) + fc2_b\n",
    "    \n",
    "    # SOLUTION: Activation.\n",
    "    fc2    = tf.nn.relu(fc2)\n",
    "#     fc2 = tf.nn.dropout(fc2, keep_prob)\n",
    "\n",
    "    # SOLUTION: Layer 5: Fully Connected. Input = 84. Output = 10.\n",
    "    fc3_W  = tf.Variable(tf.truncated_normal(shape=(90, 43), mean = mu, stddev = sigma))\n",
    "    fc3_b  = tf.Variable(tf.zeros(43))\n",
    "    logits = tf.matmul(fc2, fc3_W) + fc3_b\n",
    "    \n",
    "    return logits"
   ]
  },
  {
   "cell_type": "code",
   "execution_count": 19,
   "metadata": {
    "collapsed": true
   },
   "outputs": [],
   "source": [
    "from tensorflow.contrib.layers import flatten\n",
    "\n",
    "def GooglNet(x):    \n",
    "    # Arguments used for tf.truncated_normal, randomly defines variables for the weights and biases for each layer\n",
    "    mu = 0\n",
    "    sigma = 0.1\n",
    "    keep_prob = 0.5\n",
    "    \n",
    "#         32*32 to 30*30\n",
    "    conv0_W = tf.Variable(tf.truncated_normal(shape=(3, 3, 3, 25), mean = mu, stddev = sigma))\n",
    "    conv0_b = tf.Variable(tf.zeros(25))\n",
    "    conv0   = tf.nn.conv2d(x, conv0_W, strides=[1, 1, 1, 1], padding='VALID') + conv0_b\n",
    "#     20\n",
    "    \n",
    "    conv0 = tf.nn.relu(conv0)\n",
    "        \n",
    "#         30*30 to 28*28      \n",
    "    # SOLUTION: Layer 1: Convolutional. Input = 32x32x1. Output = 28x28x6.\n",
    "    # SOLUTION: Layer 1: Convolutional. Input = 32x32x1. Output = 30x30x10.    \n",
    "    conv1_W = tf.Variable(tf.truncated_normal(shape=(3, 3, 25, 35), mean = mu, stddev = sigma))\n",
    "    conv1_b = tf.Variable(tf.zeros(35))\n",
    "    conv1   = tf.nn.conv2d(conv0, conv1_W, strides=[1, 1, 1, 1], padding='VALID') + conv1_b\n",
    "#     30\n",
    "\n",
    "    # SOLUTION: Activation.\n",
    "    conv1 = tf.nn.relu(conv1)\n",
    "    \n",
    "    \n",
    "    # SOLUTION: Pooling. Input = 28x28x6. Output = 14x14x6.\n",
    "    # SOLUTION: Pooling. Input = 28x28x6. Output = 15x15x10.\n",
    "    conv1 = tf.nn.max_pool(conv1, ksize=[1, 2, 2, 1], strides=[1, 2, 2, 1], padding='VALID')\n",
    "    conv1 = tf.nn.dropout(conv1, keep_prob)\n",
    "    \n",
    "#   14*14 to 12*12\n",
    "    conv2a_W = tf.Variable(tf.truncated_normal(shape=(3, 3, 35, 45), mean = mu, stddev = sigma))\n",
    "    conv2a_b = tf.Variable(tf.zeros(45))\n",
    "    conv2a   = tf.nn.conv2d(conv1, conv2a_W, strides=[1, 1, 1, 1], padding='VALID') + conv2a_b\n",
    "#     40\n",
    "    \n",
    "    conv2a = tf.nn.relu(conv2a)\n",
    "    \n",
    "    \n",
    "#   12*12 to 10*10\n",
    "    # SOLUTION: Layer 2: Convolutional. Output = 10x10x16.\n",
    "    # SOLUTION: Layer 2: Convolutional. Output = 12x12x25.\n",
    "    conv2_W = tf.Variable(tf.truncated_normal(shape=(3, 3, 45, 60), mean = mu, stddev = sigma))\n",
    "    conv2_b = tf.Variable(tf.zeros(60))\n",
    "    conv2   = tf.nn.conv2d(conv2a, conv2_W, strides=[1, 1, 1, 1], padding='VALID') + conv2_b\n",
    "    \n",
    "    # SOLUTION: Activation.\n",
    "    conv2 = tf.nn.relu(conv2)\n",
    "#     50\n",
    "    \n",
    "    \n",
    "    \n",
    "#     hidden_layer = tf.nn.relu(hidden_layer)\n",
    "#     hidden_layer = tf.nn.dropout(hidden_layer, keep_prob)\n",
    "#   10*10 to 5*5\n",
    "    # SOLUTION: Pooling. Input = 10x10x16. Output = 5x5x16.\n",
    "    # SOLUTION: Pooling. Input = 12x12x16. Output = 6x6x25.\n",
    "    conv2 = tf.nn.max_pool(conv2, ksize=[1, 2, 2, 1], strides=[1, 2, 2, 1], padding='VALID')\n",
    "    conv2 = tf.nn.dropout(conv2, keep_prob)\n",
    "\n",
    "    # SOLUTION: Flatten. Input = 5x5x16. Output = 400.\n",
    "    fc0   = flatten(conv2)\n",
    "    \n",
    "    # SOLUTION: Layer 3: Fully Connected. Input = 400. Output = 120.\n",
    "    fc1_W = tf.Variable(tf.truncated_normal(shape=(1500, 1000), mean = mu, stddev = sigma))\n",
    "    fc1_b = tf.Variable(tf.zeros(1000))\n",
    "    fc1   = tf.matmul(fc0, fc1_W) + fc1_b\n",
    "#     1250 800\n",
    "    \n",
    "    # SOLUTION: Activation.\n",
    "    fc1    = tf.nn.relu(fc1)\n",
    "    \n",
    "#     fc1 = tf.nn.dropout(fc1, keep_prob/2)\n",
    "#     fc1 = tf.nn.dropout(fc1, keep_prob)\n",
    "        # SOLUTION: Layer 3: Fully Connected. Input = 400. Output = 120.\n",
    "    fc1add_W = tf.Variable(tf.truncated_normal(shape=(1000, 520), mean = mu, stddev = sigma))\n",
    "    fc1add_b = tf.Variable(tf.zeros(520))\n",
    "    fc1add   = tf.matmul(fc1, fc1add_W) + fc1add_b\n",
    "#     800 420\n",
    "    # SOLUTION: Activation.\n",
    "    fc1add    = tf.nn.relu(fc1add)\n",
    "\n",
    "    # SOLUTION: Layer 4: Fully Connected. Input = 120. Output = 84.\n",
    "    fc2_W  = tf.Variable(tf.truncated_normal(shape=(520, 250), mean = mu, stddev = sigma))\n",
    "    fc2_b  = tf.Variable(tf.zeros(250))\n",
    "    fc2    = tf.matmul(fc1add, fc2_W) + fc2_b\n",
    "#     420 200 90 43\n",
    "    \n",
    "    # SOLUTION: Activation.\n",
    "    fc2    = tf.nn.relu(fc2)\n",
    "    \n",
    "    fc2b_W  = tf.Variable(tf.truncated_normal(shape=(250, 110), mean = mu, stddev = sigma))\n",
    "    fc2b_b  = tf.Variable(tf.zeros(110))\n",
    "    fc2b    = tf.matmul(fc2, fc2b_W) + fc2b_b\n",
    "    \n",
    "    # SOLUTION: Activation.\n",
    "    fc2b    = tf.nn.relu(fc2b)\n",
    "#     fc2 = tf.nn.dropout(fc2, keep_prob)\n",
    "\n",
    "    # SOLUTION: Layer 5: Fully Connected. Input = 84. Output = 10.\n",
    "    fc3_W  = tf.Variable(tf.truncated_normal(shape=(110, 43), mean = mu, stddev = sigma))\n",
    "    fc3_b  = tf.Variable(tf.zeros(43))\n",
    "    logits = tf.matmul(fc2b, fc3_W) + fc3_b\n",
    "    \n",
    "    return logits"
   ]
  },
  {
   "cell_type": "markdown",
   "metadata": {},
   "source": [
    "### Train, Validate and Test the Model"
   ]
  },
  {
   "cell_type": "markdown",
   "metadata": {},
   "source": [
    "A validation set can be used to assess how well the model is performing. A low accuracy on the training and validation\n",
    "sets imply underfitting. A high accuracy on the test set but low accuracy on the validation set implies overfitting."
   ]
  },
  {
   "cell_type": "code",
   "execution_count": 20,
   "metadata": {
    "collapsed": true
   },
   "outputs": [],
   "source": [
    "### Train your model here.\n",
    "### Calculate and report the accuracy on the training and validation set.\n",
    "### Once a final model architecture is selected, \n",
    "### the accuracy on the test set should be calculated and reported as well.\n",
    "### Feel free to use as many code cells as needed."
   ]
  },
  {
   "cell_type": "code",
   "execution_count": 21,
   "metadata": {
    "collapsed": true
   },
   "outputs": [],
   "source": [
    "x = tf.placeholder(tf.float32, (None, 32, 32, 3))\n",
    "y = tf.placeholder(tf.int32, (None))\n",
    "one_hot_y = tf.one_hot(y, 43)"
   ]
  },
  {
   "cell_type": "code",
   "execution_count": 22,
   "metadata": {
    "collapsed": false
   },
   "outputs": [],
   "source": [
    "rate = 0.001\n",
    "\n",
    "# logits = LeNet(x)\n",
    "logits = GooglNet(x)\n",
    "cross_entropy = tf.nn.softmax_cross_entropy_with_logits(logits, one_hot_y)\n",
    "loss_operation = tf.reduce_mean(cross_entropy)\n",
    "optimizer = tf.train.AdamOptimizer(learning_rate = rate)\n",
    "training_operation = optimizer.minimize(loss_operation)"
   ]
  },
  {
   "cell_type": "code",
   "execution_count": 23,
   "metadata": {
    "collapsed": true
   },
   "outputs": [],
   "source": [
    "correct_prediction = tf.equal(tf.argmax(logits, 1), tf.argmax(one_hot_y, 1))\n",
    "accuracy_operation = tf.reduce_mean(tf.cast(correct_prediction, tf.float32))\n",
    "saver = tf.train.Saver()\n",
    "\n",
    "def evaluate(X_data, y_data):\n",
    "    num_examples = len(X_data)\n",
    "    total_accuracy = 0\n",
    "    sess = tf.get_default_session()\n",
    "    for offset in range(0, num_examples, BATCH_SIZE):\n",
    "        batch_x, batch_y = X_data[offset:offset+BATCH_SIZE], y_data[offset:offset+BATCH_SIZE]\n",
    "        accuracy = sess.run(accuracy_operation, feed_dict={x: batch_x, y: batch_y})\n",
    "        total_accuracy += (accuracy * len(batch_x))\n",
    "    return total_accuracy / num_examples"
   ]
  },
  {
   "cell_type": "code",
   "execution_count": 25,
   "metadata": {
    "collapsed": false
   },
   "outputs": [
    {
     "name": "stdout",
     "output_type": "stream",
     "text": [
      "(58813, 32, 32, 3)\n",
      "(7, 32, 32, 3)\n"
     ]
    }
   ],
   "source": [
    "web_image_array = np.array([normalize_01(resized_image1), normalize_01(resized_image2), \\\n",
    "                           normalize_01(resized_image3),normalize_01(resized_image4),\\\n",
    "                           normalize_01(resized_image5),normalize_01(resized_image6),\\\n",
    "                           normalize_01(resized_image7)])\n",
    "\n",
    "print(X_train_n.shape)\n",
    "print(web_image_array.shape)"
   ]
  },
  {
   "cell_type": "code",
   "execution_count": 28,
   "metadata": {
    "collapsed": false
   },
   "outputs": [
    {
     "name": "stdout",
     "output_type": "stream",
     "text": [
      "Training...\n",
      "\n",
      "EPOCH 1 ...\n",
      "Validation Accuracy = 0.09987\n",
      "Training Accuracy = 0.10207\n",
      "\n",
      "EPOCH 2 ...\n",
      "Validation Accuracy = 0.29518\n",
      "Training Accuracy = 0.29730\n",
      "\n",
      "EPOCH 3 ...\n",
      "Validation Accuracy = 0.42708\n",
      "Training Accuracy = 0.43268\n",
      "\n",
      "EPOCH 4 ...\n",
      "Validation Accuracy = 0.54032\n",
      "Training Accuracy = 0.54772\n",
      "\n",
      "EPOCH 5 ...\n",
      "Validation Accuracy = 0.66503\n",
      "Training Accuracy = 0.67361\n",
      "\n",
      "EPOCH 6 ...\n",
      "Validation Accuracy = 0.73410\n",
      "Training Accuracy = 0.74166\n",
      "\n",
      "EPOCH 7 ...\n",
      "Validation Accuracy = 0.79051\n",
      "Training Accuracy = 0.79588\n",
      "\n",
      "EPOCH 8 ...\n",
      "Validation Accuracy = 0.81989\n",
      "Training Accuracy = 0.82682\n",
      "\n",
      "EPOCH 9 ...\n",
      "Validation Accuracy = 0.84703\n",
      "Training Accuracy = 0.86039\n",
      "\n",
      "EPOCH 10 ...\n",
      "Validation Accuracy = 0.86407\n",
      "Training Accuracy = 0.87552\n",
      "\n",
      "Testing Accuracy = 0.88337\n",
      "[[ -1.93405676e+00   1.98517466e+00  -1.33019269e-01  -1.44609404e+00\n",
      "   -2.91924191e+00  -2.80351329e+00  -8.20652390e+00  -3.90839648e+00\n",
      "   -4.24090576e+00  -3.89567837e-02  -2.03779030e+00   5.02477312e+00\n",
      "    3.22168916e-02   4.06863832e+00   1.45922697e+00  -5.89350128e+00\n",
      "   -1.08878460e+01   1.66620505e+00  -3.85314655e+00   2.67842054e-01\n",
      "    2.58847404e+00   2.27337241e+00  -6.22912169e+00   2.66007948e+00\n",
      "   -3.91818196e-01   3.98073125e+00  -8.10785830e-01  -5.79745340e+00\n",
      "    3.24937057e+00   8.12256217e-01  -5.38167357e-01  -6.65584183e+00\n",
      "   -8.56211948e+00  -1.10427246e+01  -6.77369213e+00  -4.24820471e+00\n",
      "   -9.97054863e+00  -1.28210707e+01  -3.41027427e+00  -1.65545330e+01\n",
      "   -6.56668282e+00  -8.08130550e+00  -7.26068449e+00]\n",
      " [ -6.87815475e+00  -2.57167649e+00  -3.07854557e+00   1.28816712e+00\n",
      "   -8.71858883e+00  -1.87338865e+00  -9.30128479e+00  -6.83503199e+00\n",
      "   -6.36264133e+00   1.56777084e+00  -8.16820785e-02   4.67636681e+00\n",
      "   -3.81044936e+00  -3.20246029e+00   3.93009663e+00  -3.76044273e+00\n",
      "   -1.16579924e+01  -5.72716379e+00  -7.30545595e-02   2.35720086e+00\n",
      "    9.37019157e+00   3.54090905e+00   4.72178316e+00   9.73723030e+00\n",
      "    3.38512254e+00   1.11364136e+01  -2.22045109e-01  -2.45805120e+00\n",
      "    1.07888594e+01   1.04385805e+01   1.17518842e+00   2.22617760e-01\n",
      "   -1.62194805e+01  -1.65970135e+01  -1.35175858e+01  -8.41616631e+00\n",
      "   -7.23606634e+00  -1.49088278e+01  -5.29379988e+00  -2.08393631e+01\n",
      "   -8.36733532e+00  -1.25134954e+01  -1.12925463e+01]\n",
      " [ -3.44614148e+00  -2.36000204e+00  -2.40290594e+00  -1.30409622e+00\n",
      "   -5.55492115e+00  -3.28896141e+00   5.11281073e-01  -1.07085657e+00\n",
      "   -4.56778383e+00  -1.52215505e+00   8.52217615e-01  -9.31755424e-01\n",
      "    2.98632860e+00  -3.84376764e+00  -5.20010662e+00  -1.01775026e+01\n",
      "   -1.47637117e+00   1.35694194e+00  -5.25292301e+00   1.46505892e+00\n",
      "    2.34498835e+00  -1.47932112e+00  -1.84397197e+00   4.16032887e+00\n",
      "   -8.12112617e+00  -1.58679330e+00  -4.10592318e+00  -5.40297651e+00\n",
      "   -2.04805326e+00  -4.13035488e+00   9.72363174e-01   1.26968777e+00\n",
      "    7.51603723e-01  -4.40653181e+00  -3.45477629e+00  -6.01401997e+00\n",
      "   -6.49574518e+00  -3.04889512e+00   3.12007099e-01  -3.55172324e+00\n",
      "    8.98031771e-01   3.09521055e+00   1.88581228e+00]\n",
      " [ -1.70073757e+01  -1.22139730e+01  -2.51218009e+00  -6.42836761e+00\n",
      "   -2.55710201e+01   1.10948992e+00   1.00001745e+01  -4.59253454e+00\n",
      "   -8.59864140e+00  -6.82685184e+00  -1.59680614e+01  -1.06788130e+01\n",
      "   -9.00059700e+00   2.32986164e+00  -2.65494900e+01  -2.14168644e+01\n",
      "   -1.04134474e+01  -2.30931454e+01  -1.66195278e+01  -2.79438472e+00\n",
      "    7.05699444e+00  -9.25457859e+00  -1.71805706e+01   5.44871902e+00\n",
      "   -2.51003361e+01  -4.69358158e+00  -1.80463200e+01  -1.33446350e+01\n",
      "   -6.04238319e+00  -6.96879721e+00  -1.68600118e+00  -9.51047802e+00\n",
      "    3.81948900e+00   8.10051060e+00   1.79514103e+01  -3.00420433e-01\n",
      "    9.09493828e+00   1.25004902e+01   3.49684601e+01   1.86510906e+01\n",
      "    2.40367031e+01   2.01830406e+01   3.49252319e+00]\n",
      " [ -1.82582588e+01  -6.36443090e+00  -1.85871065e+00  -7.55639267e+00\n",
      "   -7.82586956e+00  -5.76034069e+00   1.61742544e+00  -1.68790283e+01\n",
      "   -1.18844833e+01  -1.34148283e+01  -2.13886909e+01  -6.63295698e+00\n",
      "    2.45537519e+00   9.03982735e+00  -3.15555153e+01  -6.87507963e+00\n",
      "   -2.52827187e+01  -2.14504929e+01   5.64870024e+00  -1.21312809e+01\n",
      "   -3.51510072e+00  -2.52127457e+00  -6.09454870e+00  -9.06053066e+00\n",
      "   -3.01518774e+00   3.70139480e-02   5.10622442e-01  -3.21560526e+00\n",
      "   -4.45290613e+00  -4.98452616e+00  -6.74596071e+00  -1.20095587e+01\n",
      "   -5.22421658e-01   1.64679680e+01   1.93780994e+01   2.27037678e+01\n",
      "    2.20212517e+01   1.64998875e+01   1.97695770e+01   1.64330692e+01\n",
      "    1.30046921e+01  -1.48760331e+00  -3.55430889e+00]\n",
      " [  2.74039221e+00   5.51894236e+00   2.05374599e+00  -3.98527765e+00\n",
      "    2.43633580e+00   5.45232058e-01  -2.52848244e+00  -2.96422815e+00\n",
      "   -2.57645655e+00  -1.74681103e+00  -3.73616147e+00   1.50923705e+00\n",
      "   -1.21072598e+01  -1.01856384e+01  -6.80204296e+00  -1.66789169e+01\n",
      "    1.88213396e+00  -3.73281312e+00  -3.71447873e+00   2.74610066e+00\n",
      "    7.04865992e-01  -2.25203943e+00  -6.45165777e+00   2.28455234e+00\n",
      "   -1.99289775e+00  -2.42883706e+00  -5.44679165e+00  -3.04907233e-01\n",
      "    2.06767130e+00  -3.78298974e+00  -4.98341352e-01   1.26937544e+00\n",
      "   -7.20396280e+00  -1.11093493e+01  -5.59751320e+00  -1.22696743e+01\n",
      "   -1.81583385e+01  -4.50085831e+00  -5.43569803e+00  -7.84536648e+00\n",
      "   -1.84166223e-01   2.38960572e-02  -6.69343138e+00]\n",
      " [  1.08252275e+00   2.82608581e+00  -1.74277306e-01   5.35795212e+00\n",
      "   -8.32382202e+00   1.37702644e+00  -1.02916825e+00   2.72258854e+00\n",
      "    7.73184717e-01   6.25338316e+00   3.26795983e+00   2.32085109e-01\n",
      "   -5.47533083e+00  -1.00409422e+01  -7.30272293e-01  -8.16619396e+00\n",
      "    1.04120970e+01  -4.38411951e+00  -9.99055004e+00  -3.18085003e+00\n",
      "   -1.48964095e+00  -6.17797995e+00  -3.87947917e+00   3.34960222e-01\n",
      "   -1.30626812e+01   3.57030854e-02  -9.34011841e+00  -6.82683420e+00\n",
      "   -3.14094663e+00  -2.05204034e+00   3.34971428e+00  -2.30774307e+00\n",
      "    1.12198520e+00  -1.08492794e+01  -5.15987730e+00  -9.05453014e+00\n",
      "   -1.48176298e+01  -1.49006834e+01  -6.83250237e+00  -1.53627186e+01\n",
      "   -1.97557080e+00   1.83941185e-01  -3.33421302e+00]]\n",
      "Model saved\n"
     ]
    }
   ],
   "source": [
    "from sklearn.utils import shuffle\n",
    "with tf.Session() as sess:\n",
    "    sess.run(tf.global_variables_initializer())\n",
    "    num_examples = len(X_train_n)\n",
    "    \n",
    "    print(\"Training...\")\n",
    "    print()\n",
    "    for i in range(EPOCHS):\n",
    "        X_train_n, y_train_n = shuffle(X_train_n, y_train_n)\n",
    "        for offset in range(0, num_examples, BATCH_SIZE):\n",
    "            end = offset + BATCH_SIZE\n",
    "            batch_x, batch_y = X_train_n[offset:end], y_train_n[offset:end]\n",
    "            sess.run(training_operation, feed_dict={x: batch_x, y: batch_y})\n",
    "            \n",
    "        validation_accuracy = evaluate(X_validation_n, y_validation_n)\n",
    "        training_accuracy = evaluate(X_train_n, y_train_n)\n",
    "        print(\"EPOCH {} ...\".format(i+1))\n",
    "        print(\"Validation Accuracy = {:.5f}\".format(validation_accuracy))\n",
    "        print(\"Training Accuracy = {:.5f}\".format(training_accuracy))\n",
    "        print()\n",
    "\n",
    "    testing_accuracy = evaluate(X_test_n, y_test)\n",
    "    print(\"Testing Accuracy = {:.5f}\".format(testing_accuracy))\n",
    "    \n",
    "    aa  = sess.run(logits, feed_dict={x: web_image_array })\n",
    "    print(aa)\n",
    "    \n",
    "    saver.save(sess, './P2AWS_web_images_17Feb_normalize_1augmented_15')\n",
    "    print(\"Model saved\")\n",
    "    "
   ]
  },
  {
   "cell_type": "code",
   "execution_count": 38,
   "metadata": {
    "collapsed": false
   },
   "outputs": [
    {
     "name": "stdout",
     "output_type": "stream",
     "text": [
      "11\n",
      "25\n",
      "23\n",
      "38\n",
      "35\n",
      "1\n",
      "16\n"
     ]
    },
    {
     "data": {
      "text/plain": [
       "<matplotlib.image.AxesImage at 0x7f304c46b358>"
      ]
     },
     "execution_count": 38,
     "metadata": {},
     "output_type": "execute_result"
    },
    {
     "data": {
      "image/png": "[encoded data removed]",
      "text/plain": [
       "<matplotlib.figure.Figure at 0x7f304c303748>"
      ]
     },
     "metadata": {},
     "output_type": "display_data"
    }
   ],
   "source": [
    "print(np.argmax(aa[0])) #right of way at next intersection\n",
    "print(np.argmax(aa[1])) #road work\n",
    "print(np.argmax(aa[2])) #slippery road\n",
    "print(np.argmax(aa[3])) # Keep right\n",
    "print(np.argmax(aa[4])) # Ahead only\n",
    "print(np.argmax(aa[5])) # Speed limit 30\n",
    "print(np.argmax(aa[6])) #\tVehicles over 3.5 metric tons prohibited\n",
    "# print(aa[0])\n",
    "plt.imshow(im7)\n"
   ]
  },
  {
   "cell_type": "code",
   "execution_count": null,
   "metadata": {
    "collapsed": false
   },
   "outputs": [],
   "source": [
    "# testing_accuracy = evaluate(X_test_n, y_test)\n",
    "# print(\"Training Accuracy = {:.5f}\".format(testing_accuracy))"
   ]
  },
  {
   "cell_type": "markdown",
   "metadata": {},
   "source": [
    "---\n",
    "\n",
    "## Step 3: Test a Model on New Images\n",
    "\n",
    "To give yourself more insight into how your model is working, download at least five pictures of German traffic signs from the web and use your model to predict the traffic sign type.\n",
    "\n",
    "You may find `signnames.csv` useful as it contains mappings from the class id (integer) to the actual sign name."
   ]
  },
  {
   "cell_type": "markdown",
   "metadata": {},
   "source": [
    "### Load and Output the Images"
   ]
  },
  {
   "cell_type": "code",
   "execution_count": null,
   "metadata": {
    "collapsed": true
   },
   "outputs": [],
   "source": [
    "### Load the images and plot them here.\n",
    "### Feel free to use as many code cells as needed."
   ]
  },
  {
   "cell_type": "markdown",
   "metadata": {},
   "source": [
    "### Predict the Sign Type for Each Image"
   ]
  },
  {
   "cell_type": "code",
   "execution_count": null,
   "metadata": {
    "collapsed": true
   },
   "outputs": [],
   "source": [
    "### Run the predictions here and use the model to output the prediction for each image.\n",
    "### Make sure to pre-process the images with the same pre-processing pipeline used earlier.\n",
    "### Feel free to use as many code cells as needed."
   ]
  },
  {
   "cell_type": "markdown",
   "metadata": {},
   "source": [
    "### Analyze Performance"
   ]
  },
  {
   "cell_type": "code",
   "execution_count": null,
   "metadata": {
    "collapsed": true
   },
   "outputs": [],
   "source": [
    "### Calculate the accuracy for these 5 new images. \n",
    "### For example, if the model predicted 1 out of 5 signs correctly, it's 20% accurate on these new images."
   ]
  },
  {
   "cell_type": "markdown",
   "metadata": {},
   "source": [
    "### Output Top 5 Softmax Probabilities For Each Image Found on the Web"
   ]
  },
  {
   "cell_type": "markdown",
   "metadata": {},
   "source": [
    "For each of the new images, print out the model's softmax probabilities to show the **certainty** of the model's predictions (limit the output to the top 5 probabilities for each image). [`tf.nn.top_k`](https://www.tensorflow.org/versions/r0.12/api_docs/python/nn.html#top_k) could prove helpful here. \n",
    "\n",
    "The example below demonstrates how tf.nn.top_k can be used to find the top k predictions for each image.\n",
    "\n",
    "`tf.nn.top_k` will return the values and indices (class ids) of the top k predictions. So if k=3, for each sign, it'll return the 3 largest probabilities (out of a possible 43) and the correspoding class ids.\n",
    "\n",
    "Take this numpy array as an example. The values in the array represent predictions. The array contains softmax probabilities for five candidate images with six possible classes. `tk.nn.top_k` is used to choose the three classes with the highest probability:\n",
    "\n",
    "```\n",
    "# (5, 6) array\n",
    "a = np.array([[ 0.24879643,  0.07032244,  0.12641572,  0.34763842,  0.07893497,\n",
    "         0.12789202],\n",
    "       [ 0.28086119,  0.27569815,  0.08594638,  0.0178669 ,  0.18063401,\n",
    "         0.15899337],\n",
    "       [ 0.26076848,  0.23664738,  0.08020603,  0.07001922,  0.1134371 ,\n",
    "         0.23892179],\n",
    "       [ 0.11943333,  0.29198961,  0.02605103,  0.26234032,  0.1351348 ,\n",
    "         0.16505091],\n",
    "       [ 0.09561176,  0.34396535,  0.0643941 ,  0.16240774,  0.24206137,\n",
    "         0.09155967]])\n",
    "```\n",
    "\n",
    "Running it through `sess.run(tf.nn.top_k(tf.constant(a), k=3))` produces:\n",
    "\n",
    "```\n",
    "TopKV2(values=array([[ 0.34763842,  0.24879643,  0.12789202],\n",
    "       [ 0.28086119,  0.27569815,  0.18063401],\n",
    "       [ 0.26076848,  0.23892179,  0.23664738],\n",
    "       [ 0.29198961,  0.26234032,  0.16505091],\n",
    "       [ 0.34396535,  0.24206137,  0.16240774]]), indices=array([[3, 0, 5],\n",
    "       [0, 1, 4],\n",
    "       [0, 5, 1],\n",
    "       [1, 3, 5],\n",
    "       [1, 4, 3]], dtype=int32))\n",
    "```\n",
    "\n",
    "Looking just at the first row we get `[ 0.34763842,  0.24879643,  0.12789202]`, you can confirm these are the 3 largest probabilities in `a`. You'll also notice `[3, 0, 5]` are the corresponding indices."
   ]
  },
  {
   "cell_type": "code",
   "execution_count": null,
   "metadata": {
    "collapsed": true
   },
   "outputs": [],
   "source": [
    "### Print out the top five softmax probabilities for the predictions on the German traffic sign images found on the web. \n",
    "### Feel free to use as many code cells as needed."
   ]
  },
  {
   "cell_type": "markdown",
   "metadata": {},
   "source": [
    "> **Note**: Once you have completed all of the code implementations, you need to finalize your work by exporting the IPython Notebook as an HTML document. Before exporting the notebook to html, all of the code cells need to have been run. You can then export the notebook by using the menu above and navigating to  \\n\",\n",
    "    \"**File -> Download as -> HTML (.html)**. Include the finished document along with this notebook as your submission. "
   ]
  },
  {
   "cell_type": "markdown",
   "metadata": {},
   "source": [
    "### Project Writeup\n",
    "\n",
    "Once you have completed the code implementation, document your results in a project writeup using this [template](https://github.com/udacity/CarND-Traffic-Sign-Classifier-Project/blob/master/writeup_template.md) as a guide. The writeup can be in a markdown or pdf file. "
   ]
  }
 ],
 "metadata": {
  "anaconda-cloud": {},
  "kernelspec": {
   "display_name": "Python [conda env:CarND-TensorFlow-Lab]",
   "language": "python",
   "name": "conda-env-CarND-TensorFlow-Lab-py"
  },
  "language_info": {
   "codemirror_mode": {
    "name": "ipython",
    "version": 3
   },
   "file_extension": ".py",
   "mimetype": "text/x-python",
   "name": "python",
   "nbconvert_exporter": "python",
   "pygments_lexer": "ipython3",
   "version": "3.5.2"
  }
 },
 "nbformat": 4,
 "nbformat_minor": 1
}
